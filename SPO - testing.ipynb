{
 "cells": [
  {
   "cell_type": "code",
   "execution_count": 2,
   "metadata": {},
   "outputs": [],
   "source": [
    "import numpy as np \n",
    "import pandas as pd \n",
    "import matplotlib.pyplot as plt"
   ]
  },
  {
   "cell_type": "code",
   "execution_count": 3,
   "metadata": {},
   "outputs": [],
   "source": [
    "import plotly \n",
    "plotly.tools.set_credentials_file(username='aterko', api_key='ITXh8trtYEIIWlXXe8fP')"
   ]
  },
  {
   "cell_type": "code",
   "execution_count": 3,
   "metadata": {},
   "outputs": [],
   "source": [
    "plotly.tools.set_config_file(world_readable=True)"
   ]
  },
  {
   "cell_type": "code",
   "execution_count": 6,
   "metadata": {},
   "outputs": [],
   "source": [
    "data = pd.read_csv('data.csv', encoding='ISO-8859-1')"
   ]
  },
  {
   "cell_type": "code",
   "execution_count": 7,
   "metadata": {},
   "outputs": [
    {
     "data": {
      "image/png": "[encoded data removed]",
      "text/plain": [
       "<Figure size 432x288 with 1 Axes>"
      ]
     },
     "metadata": {
      "needs_background": "light"
     },
     "output_type": "display_data"
    }
   ],
   "source": [
    "data.region.value_counts().plot.bar() \n",
    "plt.show()"
   ]
  },
  {
   "cell_type": "code",
   "execution_count": 10,
   "metadata": {},
   "outputs": [
    {
     "data": {
      "text/html": [
       "<div>\n",
       "<style scoped>\n",
       "    .dataframe tbody tr th:only-of-type {\n",
       "        vertical-align: middle;\n",
       "    }\n",
       "\n",
       "    .dataframe tbody tr th {\n",
       "        vertical-align: top;\n",
       "    }\n",
       "\n",
       "    .dataframe thead th {\n",
       "        text-align: right;\n",
       "    }\n",
       "</style>\n",
       "<table border=\"1\" class=\"dataframe\">\n",
       "  <thead>\n",
       "    <tr style=\"text-align: right;\">\n",
       "      <th></th>\n",
       "      <th>OFFENSE_CODE</th>\n",
       "      <th>OFFENSE_CODE_GROUP</th>\n",
       "      <th>DISTRICT</th>\n",
       "      <th>REPORTING_AREA</th>\n",
       "      <th>SHOOTING</th>\n",
       "      <th>OCCURRED_ON_DATE</th>\n",
       "      <th>YEAR</th>\n",
       "      <th>MONTH</th>\n",
       "      <th>DAY_OF_WEEK</th>\n",
       "      <th>HOUR</th>\n",
       "      <th>UCR_PART</th>\n",
       "      <th>STREET</th>\n",
       "      <th>Lat</th>\n",
       "      <th>Long</th>\n",
       "      <th>Location</th>\n",
       "      <th>region</th>\n",
       "    </tr>\n",
       "  </thead>\n",
       "  <tbody>\n",
       "    <tr>\n",
       "      <th>0</th>\n",
       "      <td>3301</td>\n",
       "      <td>Verbal Disputes</td>\n",
       "      <td>B3</td>\n",
       "      <td>428</td>\n",
       "      <td>False</td>\n",
       "      <td>2018-07-10 20:57:00</td>\n",
       "      <td>2018</td>\n",
       "      <td>7</td>\n",
       "      <td>Tuesday</td>\n",
       "      <td>20</td>\n",
       "      <td>Part Three</td>\n",
       "      <td>BLUE HILL AVE</td>\n",
       "      <td>42.282829</td>\n",
       "      <td>-71.091825</td>\n",
       "      <td>(42.28282878, -71.09182490)</td>\n",
       "      <td>12</td>\n",
       "    </tr>\n",
       "    <tr>\n",
       "      <th>1</th>\n",
       "      <td>3114</td>\n",
       "      <td>Investigate Property</td>\n",
       "      <td>E18</td>\n",
       "      <td>481</td>\n",
       "      <td>False</td>\n",
       "      <td>2018-07-10 21:16:00</td>\n",
       "      <td>2018</td>\n",
       "      <td>7</td>\n",
       "      <td>Tuesday</td>\n",
       "      <td>21</td>\n",
       "      <td>Part Three</td>\n",
       "      <td>ROCKDALE ST</td>\n",
       "      <td>42.266525</td>\n",
       "      <td>-71.098553</td>\n",
       "      <td>(42.26652466, -71.09855320)</td>\n",
       "      <td>10</td>\n",
       "    </tr>\n",
       "    <tr>\n",
       "      <th>2</th>\n",
       "      <td>619</td>\n",
       "      <td>Larceny</td>\n",
       "      <td>B2</td>\n",
       "      <td>182</td>\n",
       "      <td>False</td>\n",
       "      <td>2018-07-10 21:27:00</td>\n",
       "      <td>2018</td>\n",
       "      <td>7</td>\n",
       "      <td>Tuesday</td>\n",
       "      <td>21</td>\n",
       "      <td>Part One</td>\n",
       "      <td>BATCHELDER ST</td>\n",
       "      <td>42.322496</td>\n",
       "      <td>-71.069092</td>\n",
       "      <td>(42.32249601, -71.06909180)</td>\n",
       "      <td>17</td>\n",
       "    </tr>\n",
       "    <tr>\n",
       "      <th>3</th>\n",
       "      <td>617</td>\n",
       "      <td>Larceny</td>\n",
       "      <td>E5</td>\n",
       "      <td>714</td>\n",
       "      <td>False</td>\n",
       "      <td>2018-07-10 18:39:00</td>\n",
       "      <td>2018</td>\n",
       "      <td>7</td>\n",
       "      <td>Tuesday</td>\n",
       "      <td>18</td>\n",
       "      <td>Part One</td>\n",
       "      <td>VOGEL ST</td>\n",
       "      <td>42.262539</td>\n",
       "      <td>-71.165069</td>\n",
       "      <td>(42.26253888, -71.16506913)</td>\n",
       "      <td>2</td>\n",
       "    </tr>\n",
       "    <tr>\n",
       "      <th>4</th>\n",
       "      <td>3410</td>\n",
       "      <td>Towed</td>\n",
       "      <td>C6</td>\n",
       "      <td>211</td>\n",
       "      <td>False</td>\n",
       "      <td>2018-07-10 20:11:00</td>\n",
       "      <td>2018</td>\n",
       "      <td>7</td>\n",
       "      <td>Tuesday</td>\n",
       "      <td>20</td>\n",
       "      <td>Part Three</td>\n",
       "      <td>W THIRD ST</td>\n",
       "      <td>42.338964</td>\n",
       "      <td>-71.048964</td>\n",
       "      <td>(42.33896439, -71.04896420)</td>\n",
       "      <td>19</td>\n",
       "    </tr>\n",
       "  </tbody>\n",
       "</table>\n",
       "</div>"
      ],
      "text/plain": [
       "   OFFENSE_CODE    OFFENSE_CODE_GROUP DISTRICT  REPORTING_AREA  SHOOTING  \\\n",
       "0          3301       Verbal Disputes       B3             428     False   \n",
       "1          3114  Investigate Property      E18             481     False   \n",
       "2           619               Larceny       B2             182     False   \n",
       "3           617               Larceny       E5             714     False   \n",
       "4          3410                 Towed       C6             211     False   \n",
       "\n",
       "      OCCURRED_ON_DATE  YEAR  MONTH DAY_OF_WEEK  HOUR    UCR_PART  \\\n",
       "0  2018-07-10 20:57:00  2018      7     Tuesday    20  Part Three   \n",
       "1  2018-07-10 21:16:00  2018      7     Tuesday    21  Part Three   \n",
       "2  2018-07-10 21:27:00  2018      7     Tuesday    21    Part One   \n",
       "3  2018-07-10 18:39:00  2018      7     Tuesday    18    Part One   \n",
       "4  2018-07-10 20:11:00  2018      7     Tuesday    20  Part Three   \n",
       "\n",
       "          STREET        Lat       Long                     Location  region  \n",
       "0  BLUE HILL AVE  42.282829 -71.091825  (42.28282878, -71.09182490)      12  \n",
       "1    ROCKDALE ST  42.266525 -71.098553  (42.26652466, -71.09855320)      10  \n",
       "2  BATCHELDER ST  42.322496 -71.069092  (42.32249601, -71.06909180)      17  \n",
       "3       VOGEL ST  42.262539 -71.165069  (42.26253888, -71.16506913)       2  \n",
       "4     W THIRD ST  42.338964 -71.048964  (42.33896439, -71.04896420)      19  "
      ]
     },
     "execution_count": 10,
     "metadata": {},
     "output_type": "execute_result"
    }
   ],
   "source": [
    "data.head()"
   ]
  },
  {
   "cell_type": "code",
   "execution_count": 4,
   "metadata": {},
   "outputs": [],
   "source": [
    "aggregations = pd.read_csv('current_final.csv', encoding='ISO-8859-1')"
   ]
  },
  {
   "cell_type": "code",
   "execution_count": 7,
   "metadata": {},
   "outputs": [
    {
     "data": {
      "text/html": [
       "<div>\n",
       "<style scoped>\n",
       "    .dataframe tbody tr th:only-of-type {\n",
       "        vertical-align: middle;\n",
       "    }\n",
       "\n",
       "    .dataframe tbody tr th {\n",
       "        vertical-align: top;\n",
       "    }\n",
       "\n",
       "    .dataframe thead th {\n",
       "        text-align: right;\n",
       "    }\n",
       "</style>\n",
       "<table border=\"1\" class=\"dataframe\">\n",
       "  <thead>\n",
       "    <tr style=\"text-align: right;\">\n",
       "      <th></th>\n",
       "      <th>YEAR</th>\n",
       "      <th>MONTH</th>\n",
       "      <th>REGION</th>\n",
       "      <th>DATE</th>\n",
       "      <th>Count(UCR_PART)</th>\n",
       "      <th>Temperature</th>\n",
       "    </tr>\n",
       "  </thead>\n",
       "  <tbody>\n",
       "    <tr>\n",
       "      <th>count</th>\n",
       "      <td>32399.000000</td>\n",
       "      <td>32399.000000</td>\n",
       "      <td>32399.000000</td>\n",
       "      <td>32399.000000</td>\n",
       "      <td>32399.000000</td>\n",
       "      <td>32399.000000</td>\n",
       "    </tr>\n",
       "    <tr>\n",
       "      <th>mean</th>\n",
       "      <td>2016.487484</td>\n",
       "      <td>6.517886</td>\n",
       "      <td>15.003766</td>\n",
       "      <td>15.735300</td>\n",
       "      <td>8.761598</td>\n",
       "      <td>53.433317</td>\n",
       "    </tr>\n",
       "    <tr>\n",
       "      <th>std</th>\n",
       "      <td>0.973167</td>\n",
       "      <td>3.408417</td>\n",
       "      <td>8.358007</td>\n",
       "      <td>8.809186</td>\n",
       "      <td>4.510979</td>\n",
       "      <td>16.977584</td>\n",
       "    </tr>\n",
       "    <tr>\n",
       "      <th>min</th>\n",
       "      <td>2015.000000</td>\n",
       "      <td>1.000000</td>\n",
       "      <td>1.000000</td>\n",
       "      <td>1.000000</td>\n",
       "      <td>1.000000</td>\n",
       "      <td>1.510000</td>\n",
       "    </tr>\n",
       "    <tr>\n",
       "      <th>25%</th>\n",
       "      <td>2016.000000</td>\n",
       "      <td>4.000000</td>\n",
       "      <td>8.000000</td>\n",
       "      <td>8.000000</td>\n",
       "      <td>5.000000</td>\n",
       "      <td>39.600000</td>\n",
       "    </tr>\n",
       "    <tr>\n",
       "      <th>50%</th>\n",
       "      <td>2016.000000</td>\n",
       "      <td>7.000000</td>\n",
       "      <td>15.000000</td>\n",
       "      <td>16.000000</td>\n",
       "      <td>8.000000</td>\n",
       "      <td>53.640000</td>\n",
       "    </tr>\n",
       "    <tr>\n",
       "      <th>75%</th>\n",
       "      <td>2017.000000</td>\n",
       "      <td>9.000000</td>\n",
       "      <td>22.000000</td>\n",
       "      <td>23.000000</td>\n",
       "      <td>11.000000</td>\n",
       "      <td>68.100000</td>\n",
       "    </tr>\n",
       "    <tr>\n",
       "      <th>max</th>\n",
       "      <td>2018.000000</td>\n",
       "      <td>12.000000</td>\n",
       "      <td>29.000000</td>\n",
       "      <td>31.000000</td>\n",
       "      <td>99.000000</td>\n",
       "      <td>85.320000</td>\n",
       "    </tr>\n",
       "  </tbody>\n",
       "</table>\n",
       "</div>"
      ],
      "text/plain": [
       "               YEAR         MONTH        REGION          DATE  \\\n",
       "count  32399.000000  32399.000000  32399.000000  32399.000000   \n",
       "mean    2016.487484      6.517886     15.003766     15.735300   \n",
       "std        0.973167      3.408417      8.358007      8.809186   \n",
       "min     2015.000000      1.000000      1.000000      1.000000   \n",
       "25%     2016.000000      4.000000      8.000000      8.000000   \n",
       "50%     2016.000000      7.000000     15.000000     16.000000   \n",
       "75%     2017.000000      9.000000     22.000000     23.000000   \n",
       "max     2018.000000     12.000000     29.000000     31.000000   \n",
       "\n",
       "       Count(UCR_PART)   Temperature  \n",
       "count     32399.000000  32399.000000  \n",
       "mean          8.761598     53.433317  \n",
       "std           4.510979     16.977584  \n",
       "min           1.000000      1.510000  \n",
       "25%           5.000000     39.600000  \n",
       "50%           8.000000     53.640000  \n",
       "75%          11.000000     68.100000  \n",
       "max          99.000000     85.320000  "
      ]
     },
     "execution_count": 7,
     "metadata": {},
     "output_type": "execute_result"
    }
   ],
   "source": [
    "aggregations.describe()"
   ]
  },
  {
   "cell_type": "code",
   "execution_count": 17,
   "metadata": {},
   "outputs": [
    {
     "name": "stderr",
     "output_type": "stream",
     "text": [
      "/home/aterko/.local/lib/python3.6/site-packages/IPython/core/display.py:689: UserWarning:\n",
      "\n",
      "Consider using IPython.display.IFrame instead\n",
      "\n"
     ]
    },
    {
     "data": {
      "text/html": [
       "<iframe id=\"igraph\" scrolling=\"no\" style=\"border:none;\" seamless=\"seamless\" src=\"https://plot.ly/~aterko/5.embed\" height=\"525px\" width=\"100%\"></iframe>"
      ],
      "text/plain": [
       "<chart_studio.tools.PlotlyDisplay object>"
      ]
     },
     "execution_count": 17,
     "metadata": {},
     "output_type": "execute_result"
    }
   ],
   "source": [
    "import plotly.plotly as py\n",
    "import plotly.graph_objs as go\n",
    "\n",
    "trace = go.Scattergl(\n",
    "    x = data['Lat'],\n",
    "    y = data['Long'],\n",
    "    mode = 'markers',\n",
    "    marker = dict(\n",
    "        line = dict(\n",
    "            width = 1,\n",
    "            color = '#404040')\n",
    "    )\n",
    ")\n",
    "data = [trace]\n",
    "py.iplot(data, filename='Boston_crime')"
   ]
  }
 ],
 "metadata": {
  "kernelspec": {
   "display_name": "Python 3",
   "language": "python",
   "name": "python3"
  },
  "language_info": {
   "codemirror_mode": {
    "name": "ipython",
    "version": 3
   },
   "file_extension": ".py",
   "mimetype": "text/x-python",
   "name": "python",
   "nbconvert_exporter": "python",
   "pygments_lexer": "ipython3",
   "version": "3.6.7"
  }
 },
 "nbformat": 4,
 "nbformat_minor": 2
}
