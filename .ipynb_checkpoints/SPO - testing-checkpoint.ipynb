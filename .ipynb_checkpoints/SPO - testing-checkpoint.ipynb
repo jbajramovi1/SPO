{
 "cells": [
  {
   "cell_type": "code",
   "execution_count": 11,
   "metadata": {},
   "outputs": [],
   "source": [
    "import numpy as np \n",
    "import pandas as pd \n",
    "import matplotlib.pyplot as plt"
   ]
  },
  {
   "cell_type": "code",
   "execution_count": 12,
   "metadata": {},
   "outputs": [],
   "source": [
    "import plotly \n",
    "plotly.tools.set_credentials_file(username='aterko', api_key='ITXh8trtYEIIWlXXe8fP')"
   ]
  },
  {
   "cell_type": "code",
   "execution_count": 13,
   "metadata": {},
   "outputs": [],
   "source": [
    "plotly.tools.set_config_file(world_readable=True)"
   ]
  },
  {
   "cell_type": "code",
   "execution_count": 14,
   "metadata": {},
   "outputs": [],
   "source": [
    "data = pd.read_csv('data.csv', encoding='ISO-8859-1')"
   ]
  },
  {
   "cell_type": "code",
   "execution_count": 15,
   "metadata": {},
   "outputs": [
    {
     "data": {
      "image/png": "[encoded data removed]",
      "text/plain": [
       "<Figure size 432x288 with 1 Axes>"
      ]
     },
     "metadata": {
      "needs_background": "light"
     },
     "output_type": "display_data"
    }
   ],
   "source": [
    "data.region.value_counts().plot.bar() \n",
    "plt.show()"
   ]
  },
  {
   "cell_type": "code",
   "execution_count": 16,
   "metadata": {},
   "outputs": [
    {
     "name": "stdout",
     "output_type": "stream",
     "text": [
      "<class 'pandas.core.frame.DataFrame'>\n",
      "RangeIndex: 283867 entries, 0 to 283866\n",
      "Data columns (total 16 columns):\n",
      "OFFENSE_CODE          283867 non-null int64\n",
      "OFFENSE_CODE_GROUP    283867 non-null object\n",
      "DISTRICT              283005 non-null object\n",
      "REPORTING_AREA        283867 non-null int64\n",
      "SHOOTING              283867 non-null bool\n",
      "OCCURRED_ON_DATE      283867 non-null object\n",
      "YEAR                  283867 non-null int64\n",
      "MONTH                 283867 non-null int64\n",
      "DAY_OF_WEEK           283867 non-null object\n",
      "HOUR                  283867 non-null int64\n",
      "UCR_PART              283867 non-null object\n",
      "STREET                282176 non-null object\n",
      "Lat                   283867 non-null float64\n",
      "Long                  283867 non-null float64\n",
      "Location              283867 non-null object\n",
      "region                283867 non-null int64\n",
      "dtypes: bool(1), float64(2), int64(6), object(7)\n",
      "memory usage: 32.8+ MB\n"
     ]
    }
   ],
   "source": [
    "data.info()"
   ]
  },
  {
   "cell_type": "code",
   "execution_count": 17,
   "metadata": {},
   "outputs": [
    {
     "name": "stderr",
     "output_type": "stream",
     "text": [
      "/home/aterko/.local/lib/python3.6/site-packages/IPython/core/display.py:689: UserWarning:\n",
      "\n",
      "Consider using IPython.display.IFrame instead\n",
      "\n"
     ]
    },
    {
     "data": {
      "text/html": [
       "<iframe id=\"igraph\" scrolling=\"no\" style=\"border:none;\" seamless=\"seamless\" src=\"https://plot.ly/~aterko/5.embed\" height=\"525px\" width=\"100%\"></iframe>"
      ],
      "text/plain": [
       "<chart_studio.tools.PlotlyDisplay object>"
      ]
     },
     "execution_count": 17,
     "metadata": {},
     "output_type": "execute_result"
    }
   ],
   "source": [
    "import plotly.plotly as py\n",
    "import plotly.graph_objs as go\n",
    "\n",
    "trace = go.Scattergl(\n",
    "    x = data['Lat'],\n",
    "    y = data['Long'],\n",
    "    mode = 'markers',\n",
    "    marker = dict(\n",
    "        line = dict(\n",
    "            width = 1,\n",
    "            color = '#404040')\n",
    "    )\n",
    ")\n",
    "data = [trace]\n",
    "py.iplot(data, filename='Boston_crime')"
   ]
  }
 ],
 "metadata": {
  "kernelspec": {
   "display_name": "Python 3",
   "language": "python",
   "name": "python3"
  },
  "language_info": {
   "codemirror_mode": {
    "name": "ipython",
    "version": 3
   },
   "file_extension": ".py",
   "mimetype": "text/x-python",
   "name": "python",
   "nbconvert_exporter": "python",
   "pygments_lexer": "ipython3",
   "version": "3.6.7"
  }
 },
 "nbformat": 4,
 "nbformat_minor": 2
}
